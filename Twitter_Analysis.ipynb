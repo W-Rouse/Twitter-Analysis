{
 "cells": [
  {
   "cell_type": "code",
   "execution_count": 1,
   "metadata": {
    "id": "nBAa0A92nt_O"
   },
   "outputs": [],
   "source": [
    "# Run this cell to set up your notebook\n",
    "import csv\n",
    "import numpy as np\n",
    "import pandas as pd\n",
    "import matplotlib.pyplot as plt\n",
    "import zipfile\n",
    "import json\n",
    "pd.set_option(\"display.max_colwidth\", None)\n",
    "\n",
    "\n",
    "%matplotlib inline\n",
    "plt.style.use('fivethirtyeight')\n",
    "import seaborn as sns\n",
    "sns.set()\n",
    "sns.set_context(\"talk\")\n",
    "import re"
   ]
  },
  {
   "cell_type": "code",
   "execution_count": 2,
   "metadata": {
    "id": "zuTfgfHCn7ih"
   },
   "outputs": [],
   "source": [
    "\n",
    "import tweepy"
   ]
  },
  {
   "cell_type": "code",
   "execution_count": 3,
   "metadata": {
    "colab": {
     "base_uri": "https://localhost:8080/",
     "height": 246
    },
    "id": "nKoh1zESn_14",
    "outputId": "8068297e-48b6-483d-a5e9-20efb2f96e83"
   },
   "outputs": [],
   "source": [
    "import json\n",
    "key_file = 'keys.json'\n",
    "\n",
    "with open(key_file) as f:\n",
    "    keys = json.load(f)\n"
   ]
  },
  {
   "cell_type": "code",
   "execution_count": 4,
   "metadata": {
    "id": "qbT5Er0Zs07E"
   },
   "outputs": [
    {
     "name": "stdout",
     "output_type": "stream",
     "text": [
      "Your username is: wwwdotco\n"
     ]
    }
   ],
   "source": [
    "import tweepy\n",
    "from tweepy import TweepError\n",
    "import logging\n",
    "\n",
    "try:\n",
    "    auth = tweepy.OAuthHandler(keys[\"consumer_key\"], keys[\"consumer_secret\"])\n",
    "    auth.set_access_token(keys[\"access_token\"], keys[\"access_token_secret\"])\n",
    "    api = tweepy.API(auth)\n",
    "    print(\"Your username is:\", api.auth.get_username())\n",
    "except TweepError as e:\n",
    "    logging.warning(\"There was a Tweepy error. Double check your API keys and try again.\")\n",
    "    logging.warning(e)"
   ]
  },
  {
   "cell_type": "code",
   "execution_count": 5,
   "metadata": {},
   "outputs": [],
   "source": [
    "from pathlib import Path\n",
    "import json\n",
    "\n",
    "ds_tweets_save_path = \"RutgersU_recent_tweets.json\"   # need to get this file\n",
    "\n",
    "# Guarding against attempts to download the data multiple\n",
    "# times:\n",
    "if not Path(ds_tweets_save_path).is_file():\n",
    "    # Getting as many recent tweets by @RutgersU as Twitter will let us have.\n",
    "    # We use tweet_mode='extended' so that Twitter gives us full 280 character tweets.\n",
    "    # This was a change introduced in September 2017.\n",
    "    \n",
    "    # The tweepy Cursor API actually returns \"sophisticated\" Status objects but we \n",
    "    # will use the basic Python dictionaries stored in the _json field. \n",
    "    example_tweets = [t._json for t in tweepy.Cursor(api.user_timeline, id=\"RutgersU\", \n",
    "                                             tweet_mode='extended').items()]\n",
    "    \n",
    "    # Saving the tweets to a json file on disk for future analysis\n",
    "    with open(ds_tweets_save_path, \"w\") as f:        \n",
    "        json.dump(example_tweets, f)\n",
    "\n",
    "# Re-loading the json file:\n",
    "with open(ds_tweets_save_path, \"r\") as f:\n",
    "    example_tweets = json.load(f)"
   ]
  },
  {
   "cell_type": "code",
   "execution_count": 6,
   "metadata": {},
   "outputs": [],
   "source": [
    "from pathlib import Path\n",
    "import json\n",
    "\n",
    "def load_keys(path):\n",
    "    \"\"\"Loads your Twitter authentication keys from a file on disk.\n",
    "    \n",
    "    Args:\n",
    "        path (str): The path to your key file.  The file should\n",
    "          be in JSON format and look like this (but filled in):\n",
    "            {\n",
    "                \"consumer_key\": \"<your Consumer Key here>\",\n",
    "                \"consumer_secret\":  \"<your Consumer Secret here>\",\n",
    "                \"access_token\": \"<your Access Token here>\",\n",
    "                \"access_token_secret\": \"<your Access Token Secret here>\"\n",
    "            }\n",
    "    \n",
    "    Returns:\n",
    "        dict: A dictionary mapping key names (like \"consumer_key\") to\n",
    "          key values.\"\"\"\n",
    "    \n",
    "    ds_tweets_save_path = path \n",
    "    with open(ds_tweets_save_path) as f:\n",
    "        data=f.readlines()\n",
    "        \n",
    "\n",
    "    \n",
    "    return keys\n"
   ]
  },
  {
   "cell_type": "code",
   "execution_count": 7,
   "metadata": {},
   "outputs": [],
   "source": [
    "def download_recent_tweets_by_user(user_account_name, keys):\n",
    "    \"\"\"Downloads tweets by one Twitter user.\n",
    "\n",
    "    Args:\n",
    "        user_account_name (str): The name of the Twitter account\n",
    "          whose tweets will be downloaded.\n",
    "        keys (dict): A Python dictionary with Twitter authentication\n",
    "          keys (strings), like this (but filled in):\n",
    "            {\n",
    "                \"consumer_key\": \"<your Consumer Key here>\",\n",
    "                \"consumer_secret\":  \"<your Consumer Secret here>\",\n",
    "                \"access_token\": \"<your Access Token here>\",\n",
    "                \"access_token_secret\": \"<your Access Token Secret here>\"\n",
    "            }\n",
    "\n",
    "    Returns:\n",
    "        list: A list of Dictonary objects, each representing one tweet.\"\"\"\n",
    "    import tweepy\n",
    "    auth = tweepy.OAuthHandler(keys[\"consumer_key\"], keys[\"consumer_secret\"])\n",
    "    auth.set_access_token(keys[\"access_token\"], keys[\"access_token_secret\"])\n",
    "    api = tweepy.API(auth)\n",
    "\n",
    "    return list(tweepy.Cursor(api.user_timeline, id=user_account_name).items())\n",
    "\n",
    "    \n",
    "    \n"
   ]
  },
  {
   "cell_type": "code",
   "execution_count": 8,
   "metadata": {},
   "outputs": [],
   "source": [
    "def load_tweets(path):\n",
    "    \"\"\"Loads tweets that have previously been saved.\n",
    "    \n",
    "    Calling load_tweets(path) after save_tweets(tweets, path)\n",
    "    will produce the same list of tweets.\n",
    "    \n",
    "    Args:\n",
    "        path (str): The place where the tweets were be saved.\n",
    "\n",
    "    Returns:\n",
    "        list: A list of Dictionary objects, each representing one tweet.\"\"\"\n",
    "    \n",
    "    with open(path, \"rb\") as f:\n",
    "        import pickle\n",
    "        return pickle.load(f)"
   ]
  },
  {
   "cell_type": "code",
   "execution_count": 9,
   "metadata": {},
   "outputs": [],
   "source": [
    "def save_tweets(tweets, path):\n",
    "    \"\"\"Saves a list of tweets to a file in the local filesystem.\n",
    "    \n",
    "    This function makes no guarantee about the format of the saved\n",
    "    tweets, **except** that calling load_tweets(path) after\n",
    "    save_tweets(tweets, path) will produce the same list of tweets\n",
    "    and that only the file at the given path is used to store the\n",
    "    tweets.  (That means you can implement this function however\n",
    "    you want, as long as saving and loading works!)\n",
    "\n",
    "    Args:\n",
    "        tweets (list): A list of tweet objects (of type Status) to\n",
    "          be saved.\n",
    "        path (str): The place where the tweets will be saved.\n",
    "\n",
    "    Returns:\n",
    "        None\"\"\"\n",
    "    with open(path, \"wb\") as f:\n",
    "        import pickle\n",
    "        pickle.dump(tweets, f)"
   ]
  },
  {
   "cell_type": "code",
   "execution_count": 10,
   "metadata": {},
   "outputs": [],
   "source": [
    "def get_tweets_with_cache(user_account_name, keys_path):\n",
    "    \"\"\"Get recent tweets from one user, loading from a disk cache if available.\n",
    "    \n",
    "    The first time you call this function, it will download tweets by\n",
    "    a user.  Subsequent calls will not re-download the tweets; instead\n",
    "    they'll load the tweets from a save file in your local filesystem.\n",
    "    All this is done using the functions you defined in the previous cell.\n",
    "    This has benefits and drawbacks that often appear when you cache data:\n",
    "    \n",
    "    +: Using this function will prevent extraneous usage of the Twitter API.\n",
    "    +: You will get your data much faster after the first time it's called.\n",
    "    -: If you really want to re-download the tweets (say, to get newer ones,\n",
    "       or because you screwed up something in the previous cell and your\n",
    "       tweets aren't what you wanted), you'll have to find the save file\n",
    "       (which will look like <something>_recent_tweets.pkl) and delete it.\n",
    "    \n",
    "    Args:\n",
    "        user_account_name (str): The Twitter handle of a user, without the @.\n",
    "        keys_path (str): The path to a JSON keys file in your filesystem.\n",
    "    \"\"\"\n",
    "    \n",
    "    \n",
    "    save_path = \"{}_recent_tweets.pk1\".format(user_account_name)\n",
    "    from pathlib import Path\n",
    "    if not Path(save_path).is_file():\n",
    "        keys = load_keys(keys_path)\n",
    "        tweets = download_recent_tweets_by_user(user_account_name, keys)\n",
    "        save_tweets(tweets, save_path)\n",
    "    return load_tweets(save_path)\n",
    "   \n",
    "    \n",
    "    \n"
   ]
  },
  {
   "cell_type": "code",
   "execution_count": 11,
   "metadata": {},
   "outputs": [],
   "source": [
    "test_tweet = get_tweets_with_cache(\"accuweather\", \"keys.json\")"
   ]
  },
  {
   "cell_type": "code",
   "execution_count": 12,
   "metadata": {},
   "outputs": [
    {
     "data": {
      "text/plain": [
       "Status(_json={'created_at': 'Wed Jun 09 01:32:00 +0000 2021', 'id': 1402438297222369282, 'id_str': '1402438297222369282', 'text': \"AccuWeather's @adamdweather Adam Del Rosso interviewed @NASA research scientist Dr. Patrick Duran about using light… https://t.co/cp4sJGKLgQ\", 'truncated': True, 'entities': {'hashtags': [], 'symbols': [], 'user_mentions': [{'screen_name': 'AdamDWeather', 'name': 'Adam Del Rosso', 'id': 542949053, 'id_str': '542949053', 'indices': [14, 27]}, {'screen_name': 'NASA', 'name': 'NASA', 'id': 11348282, 'id_str': '11348282', 'indices': [55, 60]}], 'urls': [{'url': 'https://t.co/cp4sJGKLgQ', 'expanded_url': 'https://twitter.com/i/web/status/1402438297222369282', 'display_url': 'twitter.com/i/web/status/1…', 'indices': [117, 140]}]}, 'source': '<a href=\"https://sproutsocial.com\" rel=\"nofollow\">Sprout Social</a>', 'in_reply_to_status_id': None, 'in_reply_to_status_id_str': None, 'in_reply_to_user_id': None, 'in_reply_to_user_id_str': None, 'in_reply_to_screen_name': None, 'user': {'id': 8510242, 'id_str': '8510242', 'name': 'AccuWeather', 'screen_name': 'accuweather', 'location': 'State College, PA', 'description': 'AccuWeather news & commentary. Follow @breakingweather for breaking weather. Download apps @ https://t.co/Q8T9KJciw5 Email support@accuweather.com for support', 'url': 'https://t.co/90ObuebQ4w', 'entities': {'url': {'urls': [{'url': 'https://t.co/90ObuebQ4w', 'expanded_url': 'http://AccuWeather.com', 'display_url': 'AccuWeather.com', 'indices': [0, 23]}]}, 'description': {'urls': [{'url': 'https://t.co/Q8T9KJciw5', 'expanded_url': 'http://bit.ly/3l6xV7M', 'display_url': 'bit.ly/3l6xV7M', 'indices': [93, 116]}]}}, 'protected': False, 'followers_count': 1000032, 'friends_count': 2540, 'listed_count': 2275, 'created_at': 'Wed Aug 29 12:56:51 +0000 2007', 'favourites_count': 7450, 'utc_offset': None, 'time_zone': None, 'geo_enabled': True, 'verified': True, 'statuses_count': 70531, 'lang': None, 'contributors_enabled': False, 'is_translator': False, 'is_translation_enabled': False, 'profile_background_color': 'C0DEED', 'profile_background_image_url': 'http://abs.twimg.com/images/themes/theme1/bg.png', 'profile_background_image_url_https': 'https://abs.twimg.com/images/themes/theme1/bg.png', 'profile_background_tile': False, 'profile_image_url': 'http://pbs.twimg.com/profile_images/1372654857857941516/vvge9Lhg_normal.jpg', 'profile_image_url_https': 'https://pbs.twimg.com/profile_images/1372654857857941516/vvge9Lhg_normal.jpg', 'profile_banner_url': 'https://pbs.twimg.com/profile_banners/8510242/1616101423', 'profile_link_color': '1DA1F2', 'profile_sidebar_border_color': 'C0DEED', 'profile_sidebar_fill_color': 'DDEEF6', 'profile_text_color': '333333', 'profile_use_background_image': True, 'has_extended_profile': False, 'default_profile': True, 'default_profile_image': False, 'following': True, 'follow_request_sent': False, 'notifications': False, 'translator_type': 'none', 'withheld_in_countries': []}, 'geo': None, 'coordinates': None, 'place': None, 'contributors': None, 'is_quote_status': False, 'retweet_count': 2, 'favorite_count': 3, 'favorited': False, 'retweeted': False, 'possibly_sensitive': False, 'lang': 'en'}, created_at=datetime.datetime(2021, 6, 9, 1, 32), id=1402438297222369282, id_str='1402438297222369282', text=\"AccuWeather's @adamdweather Adam Del Rosso interviewed @NASA research scientist Dr. Patrick Duran about using light… https://t.co/cp4sJGKLgQ\", truncated=True, entities={'hashtags': [], 'symbols': [], 'user_mentions': [{'screen_name': 'AdamDWeather', 'name': 'Adam Del Rosso', 'id': 542949053, 'id_str': '542949053', 'indices': [14, 27]}, {'screen_name': 'NASA', 'name': 'NASA', 'id': 11348282, 'id_str': '11348282', 'indices': [55, 60]}], 'urls': [{'url': 'https://t.co/cp4sJGKLgQ', 'expanded_url': 'https://twitter.com/i/web/status/1402438297222369282', 'display_url': 'twitter.com/i/web/status/1…', 'indices': [117, 140]}]}, source='Sprout Social', source_url='https://sproutsocial.com', in_reply_to_status_id=None, in_reply_to_status_id_str=None, in_reply_to_user_id=None, in_reply_to_user_id_str=None, in_reply_to_screen_name=None, author=User(_json={'id': 8510242, 'id_str': '8510242', 'name': 'AccuWeather', 'screen_name': 'accuweather', 'location': 'State College, PA', 'description': 'AccuWeather news & commentary. Follow @breakingweather for breaking weather. Download apps @ https://t.co/Q8T9KJciw5 Email support@accuweather.com for support', 'url': 'https://t.co/90ObuebQ4w', 'entities': {'url': {'urls': [{'url': 'https://t.co/90ObuebQ4w', 'expanded_url': 'http://AccuWeather.com', 'display_url': 'AccuWeather.com', 'indices': [0, 23]}]}, 'description': {'urls': [{'url': 'https://t.co/Q8T9KJciw5', 'expanded_url': 'http://bit.ly/3l6xV7M', 'display_url': 'bit.ly/3l6xV7M', 'indices': [93, 116]}]}}, 'protected': False, 'followers_count': 1000032, 'friends_count': 2540, 'listed_count': 2275, 'created_at': 'Wed Aug 29 12:56:51 +0000 2007', 'favourites_count': 7450, 'utc_offset': None, 'time_zone': None, 'geo_enabled': True, 'verified': True, 'statuses_count': 70531, 'lang': None, 'contributors_enabled': False, 'is_translator': False, 'is_translation_enabled': False, 'profile_background_color': 'C0DEED', 'profile_background_image_url': 'http://abs.twimg.com/images/themes/theme1/bg.png', 'profile_background_image_url_https': 'https://abs.twimg.com/images/themes/theme1/bg.png', 'profile_background_tile': False, 'profile_image_url': 'http://pbs.twimg.com/profile_images/1372654857857941516/vvge9Lhg_normal.jpg', 'profile_image_url_https': 'https://pbs.twimg.com/profile_images/1372654857857941516/vvge9Lhg_normal.jpg', 'profile_banner_url': 'https://pbs.twimg.com/profile_banners/8510242/1616101423', 'profile_link_color': '1DA1F2', 'profile_sidebar_border_color': 'C0DEED', 'profile_sidebar_fill_color': 'DDEEF6', 'profile_text_color': '333333', 'profile_use_background_image': True, 'has_extended_profile': False, 'default_profile': True, 'default_profile_image': False, 'following': True, 'follow_request_sent': False, 'notifications': False, 'translator_type': 'none', 'withheld_in_countries': []}, id=8510242, id_str='8510242', name='AccuWeather', screen_name='accuweather', location='State College, PA', description='AccuWeather news & commentary. Follow @breakingweather for breaking weather. Download apps @ https://t.co/Q8T9KJciw5 Email support@accuweather.com for support', url='https://t.co/90ObuebQ4w', entities={'url': {'urls': [{'url': 'https://t.co/90ObuebQ4w', 'expanded_url': 'http://AccuWeather.com', 'display_url': 'AccuWeather.com', 'indices': [0, 23]}]}, 'description': {'urls': [{'url': 'https://t.co/Q8T9KJciw5', 'expanded_url': 'http://bit.ly/3l6xV7M', 'display_url': 'bit.ly/3l6xV7M', 'indices': [93, 116]}]}}, protected=False, followers_count=1000032, friends_count=2540, listed_count=2275, created_at=datetime.datetime(2007, 8, 29, 12, 56, 51), favourites_count=7450, utc_offset=None, time_zone=None, geo_enabled=True, verified=True, statuses_count=70531, lang=None, contributors_enabled=False, is_translator=False, is_translation_enabled=False, profile_background_color='C0DEED', profile_background_image_url='http://abs.twimg.com/images/themes/theme1/bg.png', profile_background_image_url_https='https://abs.twimg.com/images/themes/theme1/bg.png', profile_background_tile=False, profile_image_url='http://pbs.twimg.com/profile_images/1372654857857941516/vvge9Lhg_normal.jpg', profile_image_url_https='https://pbs.twimg.com/profile_images/1372654857857941516/vvge9Lhg_normal.jpg', profile_banner_url='https://pbs.twimg.com/profile_banners/8510242/1616101423', profile_link_color='1DA1F2', profile_sidebar_border_color='C0DEED', profile_sidebar_fill_color='DDEEF6', profile_text_color='333333', profile_use_background_image=True, has_extended_profile=False, default_profile=True, default_profile_image=False, following=True, follow_request_sent=False, notifications=False, translator_type='none', withheld_in_countries=[]), user=User(_json={'id': 8510242, 'id_str': '8510242', 'name': 'AccuWeather', 'screen_name': 'accuweather', 'location': 'State College, PA', 'description': 'AccuWeather news & commentary. Follow @breakingweather for breaking weather. Download apps @ https://t.co/Q8T9KJciw5 Email support@accuweather.com for support', 'url': 'https://t.co/90ObuebQ4w', 'entities': {'url': {'urls': [{'url': 'https://t.co/90ObuebQ4w', 'expanded_url': 'http://AccuWeather.com', 'display_url': 'AccuWeather.com', 'indices': [0, 23]}]}, 'description': {'urls': [{'url': 'https://t.co/Q8T9KJciw5', 'expanded_url': 'http://bit.ly/3l6xV7M', 'display_url': 'bit.ly/3l6xV7M', 'indices': [93, 116]}]}}, 'protected': False, 'followers_count': 1000032, 'friends_count': 2540, 'listed_count': 2275, 'created_at': 'Wed Aug 29 12:56:51 +0000 2007', 'favourites_count': 7450, 'utc_offset': None, 'time_zone': None, 'geo_enabled': True, 'verified': True, 'statuses_count': 70531, 'lang': None, 'contributors_enabled': False, 'is_translator': False, 'is_translation_enabled': False, 'profile_background_color': 'C0DEED', 'profile_background_image_url': 'http://abs.twimg.com/images/themes/theme1/bg.png', 'profile_background_image_url_https': 'https://abs.twimg.com/images/themes/theme1/bg.png', 'profile_background_tile': False, 'profile_image_url': 'http://pbs.twimg.com/profile_images/1372654857857941516/vvge9Lhg_normal.jpg', 'profile_image_url_https': 'https://pbs.twimg.com/profile_images/1372654857857941516/vvge9Lhg_normal.jpg', 'profile_banner_url': 'https://pbs.twimg.com/profile_banners/8510242/1616101423', 'profile_link_color': '1DA1F2', 'profile_sidebar_border_color': 'C0DEED', 'profile_sidebar_fill_color': 'DDEEF6', 'profile_text_color': '333333', 'profile_use_background_image': True, 'has_extended_profile': False, 'default_profile': True, 'default_profile_image': False, 'following': True, 'follow_request_sent': False, 'notifications': False, 'translator_type': 'none', 'withheld_in_countries': []}, id=8510242, id_str='8510242', name='AccuWeather', screen_name='accuweather', location='State College, PA', description='AccuWeather news & commentary. Follow @breakingweather for breaking weather. Download apps @ https://t.co/Q8T9KJciw5 Email support@accuweather.com for support', url='https://t.co/90ObuebQ4w', entities={'url': {'urls': [{'url': 'https://t.co/90ObuebQ4w', 'expanded_url': 'http://AccuWeather.com', 'display_url': 'AccuWeather.com', 'indices': [0, 23]}]}, 'description': {'urls': [{'url': 'https://t.co/Q8T9KJciw5', 'expanded_url': 'http://bit.ly/3l6xV7M', 'display_url': 'bit.ly/3l6xV7M', 'indices': [93, 116]}]}}, protected=False, followers_count=1000032, friends_count=2540, listed_count=2275, created_at=datetime.datetime(2007, 8, 29, 12, 56, 51), favourites_count=7450, utc_offset=None, time_zone=None, geo_enabled=True, verified=True, statuses_count=70531, lang=None, contributors_enabled=False, is_translator=False, is_translation_enabled=False, profile_background_color='C0DEED', profile_background_image_url='http://abs.twimg.com/images/themes/theme1/bg.png', profile_background_image_url_https='https://abs.twimg.com/images/themes/theme1/bg.png', profile_background_tile=False, profile_image_url='http://pbs.twimg.com/profile_images/1372654857857941516/vvge9Lhg_normal.jpg', profile_image_url_https='https://pbs.twimg.com/profile_images/1372654857857941516/vvge9Lhg_normal.jpg', profile_banner_url='https://pbs.twimg.com/profile_banners/8510242/1616101423', profile_link_color='1DA1F2', profile_sidebar_border_color='C0DEED', profile_sidebar_fill_color='DDEEF6', profile_text_color='333333', profile_use_background_image=True, has_extended_profile=False, default_profile=True, default_profile_image=False, following=True, follow_request_sent=False, notifications=False, translator_type='none', withheld_in_countries=[]), geo=None, coordinates=None, place=None, contributors=None, is_quote_status=False, retweet_count=2, favorite_count=3, favorited=False, retweeted=False, possibly_sensitive=False, lang='en')"
      ]
     },
     "execution_count": 12,
     "metadata": {},
     "output_type": "execute_result"
    }
   ],
   "source": [
    "test_tweet[0]"
   ]
  },
  {
   "cell_type": "code",
   "execution_count": 13,
   "metadata": {},
   "outputs": [],
   "source": [
    "def extract_text(tweet):\n",
    "    return tweet.text \n",
    "\n",
    "def extract_time(tweet):\n",
    "    return tweet.created_at \n",
    "def extract_id(tweet):\n",
    "    return tweet.id_str \n",
    "def extract_source(tweet):\n",
    "    return tweet.source \n",
    "def extract_rt(tweet):\n",
    "    return tweet.retweet_count \n",
    "\n",
    "def make_dataframe(tweets):\n",
    "    \"\"\"Make a DataFrame from a list of tweets, with a few relevant fields.\n",
    "    \n",
    "    Args:\n",
    "        tweets (list): A list of tweets, each one a Status object.\n",
    "    \n",
    "    Returns:\n",
    "        DataFrame: A Pandas DataFrame containing one row for each element\n",
    "          of tweets and one column for each relevant field.\"\"\"\n",
    "    df = pd.DataFrame() \n",
    "    df['text'] = [extract_text(t) for t in tweets]\n",
    "    df['created_at'] = [extract_time(t) for t in tweets] \n",
    "    df['source'] = [extract_source(t) for t in tweets] \n",
    "    df['id'] = [extract_id(t) for t in tweets] \n",
    "    df['retweet_count'] = [extract_rt(t) for t in tweets]\n",
    "    return df\n",
    "df = make_dataframe(test_tweet)\n"
   ]
  },
  {
   "cell_type": "code",
   "execution_count": 14,
   "metadata": {},
   "outputs": [
    {
     "data": {
      "text/html": [
       "<div>\n",
       "<style scoped>\n",
       "    .dataframe tbody tr th:only-of-type {\n",
       "        vertical-align: middle;\n",
       "    }\n",
       "\n",
       "    .dataframe tbody tr th {\n",
       "        vertical-align: top;\n",
       "    }\n",
       "\n",
       "    .dataframe thead th {\n",
       "        text-align: right;\n",
       "    }\n",
       "</style>\n",
       "<table border=\"1\" class=\"dataframe\">\n",
       "  <thead>\n",
       "    <tr style=\"text-align: right;\">\n",
       "      <th></th>\n",
       "      <th>text</th>\n",
       "      <th>created_at</th>\n",
       "      <th>source</th>\n",
       "      <th>retweet_count</th>\n",
       "    </tr>\n",
       "    <tr>\n",
       "      <th>id</th>\n",
       "      <th></th>\n",
       "      <th></th>\n",
       "      <th></th>\n",
       "      <th></th>\n",
       "    </tr>\n",
       "  </thead>\n",
       "  <tbody>\n",
       "    <tr>\n",
       "      <th>1402438297222369282</th>\n",
       "      <td>AccuWeather's @adamdweather Adam Del Rosso interviewed @NASA research scientist Dr. Patrick Duran about using light… https://t.co/cp4sJGKLgQ</td>\n",
       "      <td>2021-06-09 01:32:00</td>\n",
       "      <td>Sprout Social</td>\n",
       "      <td>2</td>\n",
       "    </tr>\n",
       "    <tr>\n",
       "      <th>1402429993192464384</th>\n",
       "      <td>On May 26, the moon passed through Earth’s shadow during a lunar eclipse, and on Thursday, the roles will be revers… https://t.co/TZmj0A1JIB</td>\n",
       "      <td>2021-06-09 00:59:00</td>\n",
       "      <td>Sprout Social</td>\n",
       "      <td>6</td>\n",
       "    </tr>\n",
       "    <tr>\n",
       "      <th>1402422948485648391</th>\n",
       "      <td>Daily #coronavirus briefing: \"Joints for Jabs,\" Canada's potential border reopening, and the resurrection of Madiso… https://t.co/uV2FJvoEsf</td>\n",
       "      <td>2021-06-09 00:31:01</td>\n",
       "      <td>Sprout Social</td>\n",
       "      <td>1</td>\n",
       "    </tr>\n",
       "    <tr>\n",
       "      <th>1402415175764959236</th>\n",
       "      <td>It doesn't look like this motorist will cross this roadway in LeFlore County, Oklahoma. Watch how it turned into a… https://t.co/vwFsJdN8Fa</td>\n",
       "      <td>2021-06-09 00:00:08</td>\n",
       "      <td>Sprout Social</td>\n",
       "      <td>1</td>\n",
       "    </tr>\n",
       "    <tr>\n",
       "      <th>1402407605633441792</th>\n",
       "      <td>The chances of the development of a tropical depression or storm will grow in mid- to late June. Additional disturb… https://t.co/3ZeHUzdaI0</td>\n",
       "      <td>2021-06-08 23:30:03</td>\n",
       "      <td>Sprout Social</td>\n",
       "      <td>4</td>\n",
       "    </tr>\n",
       "    <tr>\n",
       "      <th>...</th>\n",
       "      <td>...</td>\n",
       "      <td>...</td>\n",
       "      <td>...</td>\n",
       "      <td>...</td>\n",
       "    </tr>\n",
       "    <tr>\n",
       "      <th>1383027504571629570</th>\n",
       "      <td>It is one of the most ambitious clean energy plans in the country, but some say the transition will actually cause… https://t.co/TCTvFgzeud</td>\n",
       "      <td>2021-04-16 12:00:27</td>\n",
       "      <td>Sprout Social</td>\n",
       "      <td>0</td>\n",
       "    </tr>\n",
       "    <tr>\n",
       "      <th>1382997250830438401</th>\n",
       "      <td>Favorable weather is in the forecast for many areas of North America as the first meteor shower since January reach… https://t.co/05fh9f10qd</td>\n",
       "      <td>2021-04-16 10:00:14</td>\n",
       "      <td>Sprout Social</td>\n",
       "      <td>3</td>\n",
       "    </tr>\n",
       "    <tr>\n",
       "      <th>1382967059471040513</th>\n",
       "      <td>You'd expect to capture some spectacular images on camera if you're kayaking at a glacier lake in Nepal, but one gr… https://t.co/LjRz7pDB0W</td>\n",
       "      <td>2021-04-16 08:00:15</td>\n",
       "      <td>Sprout Social</td>\n",
       "      <td>4</td>\n",
       "    </tr>\n",
       "    <tr>\n",
       "      <th>1382936830560047104</th>\n",
       "      <td>The fiancée of a crane operator reported missing from a vessel that capsized in a storm says family members are des… https://t.co/X7ZYqO3kyO</td>\n",
       "      <td>2021-04-16 06:00:08</td>\n",
       "      <td>Sprout Social</td>\n",
       "      <td>4</td>\n",
       "    </tr>\n",
       "    <tr>\n",
       "      <th>1382906615888801793</th>\n",
       "      <td>The strengthening storm will unleash plenty of precipitation and also some high winds and rough seas. But the wet w… https://t.co/C4bqYDsSgz</td>\n",
       "      <td>2021-04-16 04:00:05</td>\n",
       "      <td>Sprout Social</td>\n",
       "      <td>2</td>\n",
       "    </tr>\n",
       "  </tbody>\n",
       "</table>\n",
       "<p>3250 rows × 4 columns</p>\n",
       "</div>"
      ],
      "text/plain": [
       "                                                                                                                                                             text  \\\n",
       "id                                                                                                                                                                  \n",
       "1402438297222369282  AccuWeather's @adamdweather Adam Del Rosso interviewed @NASA research scientist Dr. Patrick Duran about using light… https://t.co/cp4sJGKLgQ   \n",
       "1402429993192464384  On May 26, the moon passed through Earth’s shadow during a lunar eclipse, and on Thursday, the roles will be revers… https://t.co/TZmj0A1JIB   \n",
       "1402422948485648391  Daily #coronavirus briefing: \"Joints for Jabs,\" Canada's potential border reopening, and the resurrection of Madiso… https://t.co/uV2FJvoEsf   \n",
       "1402415175764959236   It doesn't look like this motorist will cross this roadway in LeFlore County, Oklahoma. Watch how it turned into a… https://t.co/vwFsJdN8Fa   \n",
       "1402407605633441792  The chances of the development of a tropical depression or storm will grow in mid- to late June. Additional disturb… https://t.co/3ZeHUzdaI0   \n",
       "...                                                                                                                                                           ...   \n",
       "1383027504571629570   It is one of the most ambitious clean energy plans in the country, but some say the transition will actually cause… https://t.co/TCTvFgzeud   \n",
       "1382997250830438401  Favorable weather is in the forecast for many areas of North America as the first meteor shower since January reach… https://t.co/05fh9f10qd   \n",
       "1382967059471040513  You'd expect to capture some spectacular images on camera if you're kayaking at a glacier lake in Nepal, but one gr… https://t.co/LjRz7pDB0W   \n",
       "1382936830560047104  The fiancée of a crane operator reported missing from a vessel that capsized in a storm says family members are des… https://t.co/X7ZYqO3kyO   \n",
       "1382906615888801793  The strengthening storm will unleash plenty of precipitation and also some high winds and rough seas. But the wet w… https://t.co/C4bqYDsSgz   \n",
       "\n",
       "                             created_at         source  retweet_count  \n",
       "id                                                                     \n",
       "1402438297222369282 2021-06-09 01:32:00  Sprout Social              2  \n",
       "1402429993192464384 2021-06-09 00:59:00  Sprout Social              6  \n",
       "1402422948485648391 2021-06-09 00:31:01  Sprout Social              1  \n",
       "1402415175764959236 2021-06-09 00:00:08  Sprout Social              1  \n",
       "1402407605633441792 2021-06-08 23:30:03  Sprout Social              4  \n",
       "...                                 ...            ...            ...  \n",
       "1383027504571629570 2021-04-16 12:00:27  Sprout Social              0  \n",
       "1382997250830438401 2021-04-16 10:00:14  Sprout Social              3  \n",
       "1382967059471040513 2021-04-16 08:00:15  Sprout Social              4  \n",
       "1382936830560047104 2021-04-16 06:00:08  Sprout Social              4  \n",
       "1382906615888801793 2021-04-16 04:00:05  Sprout Social              2  \n",
       "\n",
       "[3250 rows x 4 columns]"
      ]
     },
     "execution_count": 14,
     "metadata": {},
     "output_type": "execute_result"
    }
   ],
   "source": [
    "tweet_df = df.set_index('id')\n",
    "tweet_df"
   ]
  },
  {
   "cell_type": "code",
   "execution_count": 15,
   "metadata": {},
   "outputs": [
    {
     "data": {
      "text/plain": [
       "array(['Sprout Social', 'TweetDeck', 'Twitter Web App',\n",
       "       'Twitter for Android', 'Twitter for iPhone'], dtype=object)"
      ]
     },
     "execution_count": 15,
     "metadata": {},
     "output_type": "execute_result"
    }
   ],
   "source": [
    "tweet_df['source'].unique()"
   ]
  },
  {
   "cell_type": "markdown",
   "metadata": {},
   "source": [
    "<b>The most common device types used in accessing twitter</b>"
   ]
  },
  {
   "cell_type": "code",
   "execution_count": 16,
   "metadata": {},
   "outputs": [
    {
     "data": {
      "image/png": "[encoded data removed]",
      "text/plain": [
       "<Figure size 432x288 with 1 Axes>"
      ]
     },
     "metadata": {},
     "output_type": "display_data"
    }
   ],
   "source": [
    "ax = sns.countplot(y=tweet_df['source'], data=tweet_df, order = tweet_df['source'].value_counts().index)\n",
    "ax.set(ylabel =\"Number of Tweets\", xlabel =\" \")\n",
    "sns.set(rc={'figure.figsize':(11,8)})"
   ]
  },
  {
   "cell_type": "code",
   "execution_count": 17,
   "metadata": {},
   "outputs": [
    {
     "data": {
      "text/html": [
       "<div>\n",
       "<style scoped>\n",
       "    .dataframe tbody tr th:only-of-type {\n",
       "        vertical-align: middle;\n",
       "    }\n",
       "\n",
       "    .dataframe tbody tr th {\n",
       "        vertical-align: top;\n",
       "    }\n",
       "\n",
       "    .dataframe thead th {\n",
       "        text-align: right;\n",
       "    }\n",
       "</style>\n",
       "<table border=\"1\" class=\"dataframe\">\n",
       "  <thead>\n",
       "    <tr style=\"text-align: right;\">\n",
       "      <th></th>\n",
       "      <th>text</th>\n",
       "      <th>time</th>\n",
       "      <th>source</th>\n",
       "      <th>retweet_count</th>\n",
       "    </tr>\n",
       "    <tr>\n",
       "      <th>id</th>\n",
       "      <th></th>\n",
       "      <th></th>\n",
       "      <th></th>\n",
       "      <th></th>\n",
       "    </tr>\n",
       "  </thead>\n",
       "  <tbody>\n",
       "    <tr>\n",
       "      <th>1402438297222369282</th>\n",
       "      <td>AccuWeather's @adamdweather Adam Del Rosso interviewed @NASA research scientist Dr. Patrick Duran about using light… https://t.co/cp4sJGKLgQ</td>\n",
       "      <td>2021-06-09 01:32:00</td>\n",
       "      <td>Sprout Social</td>\n",
       "      <td>2</td>\n",
       "    </tr>\n",
       "    <tr>\n",
       "      <th>1402429993192464384</th>\n",
       "      <td>On May 26, the moon passed through Earth’s shadow during a lunar eclipse, and on Thursday, the roles will be revers… https://t.co/TZmj0A1JIB</td>\n",
       "      <td>2021-06-09 00:59:00</td>\n",
       "      <td>Sprout Social</td>\n",
       "      <td>6</td>\n",
       "    </tr>\n",
       "    <tr>\n",
       "      <th>1402422948485648391</th>\n",
       "      <td>Daily #coronavirus briefing: \"Joints for Jabs,\" Canada's potential border reopening, and the resurrection of Madiso… https://t.co/uV2FJvoEsf</td>\n",
       "      <td>2021-06-09 00:31:01</td>\n",
       "      <td>Sprout Social</td>\n",
       "      <td>1</td>\n",
       "    </tr>\n",
       "    <tr>\n",
       "      <th>1402415175764959236</th>\n",
       "      <td>It doesn't look like this motorist will cross this roadway in LeFlore County, Oklahoma. Watch how it turned into a… https://t.co/vwFsJdN8Fa</td>\n",
       "      <td>2021-06-09 00:00:08</td>\n",
       "      <td>Sprout Social</td>\n",
       "      <td>1</td>\n",
       "    </tr>\n",
       "    <tr>\n",
       "      <th>1402407605633441792</th>\n",
       "      <td>The chances of the development of a tropical depression or storm will grow in mid- to late June. Additional disturb… https://t.co/3ZeHUzdaI0</td>\n",
       "      <td>2021-06-08 23:30:03</td>\n",
       "      <td>Sprout Social</td>\n",
       "      <td>4</td>\n",
       "    </tr>\n",
       "  </tbody>\n",
       "</table>\n",
       "</div>"
      ],
      "text/plain": [
       "                                                                                                                                                             text  \\\n",
       "id                                                                                                                                                                  \n",
       "1402438297222369282  AccuWeather's @adamdweather Adam Del Rosso interviewed @NASA research scientist Dr. Patrick Duran about using light… https://t.co/cp4sJGKLgQ   \n",
       "1402429993192464384  On May 26, the moon passed through Earth’s shadow during a lunar eclipse, and on Thursday, the roles will be revers… https://t.co/TZmj0A1JIB   \n",
       "1402422948485648391  Daily #coronavirus briefing: \"Joints for Jabs,\" Canada's potential border reopening, and the resurrection of Madiso… https://t.co/uV2FJvoEsf   \n",
       "1402415175764959236   It doesn't look like this motorist will cross this roadway in LeFlore County, Oklahoma. Watch how it turned into a… https://t.co/vwFsJdN8Fa   \n",
       "1402407605633441792  The chances of the development of a tropical depression or storm will grow in mid- to late June. Additional disturb… https://t.co/3ZeHUzdaI0   \n",
       "\n",
       "                                   time         source  retweet_count  \n",
       "id                                                                     \n",
       "1402438297222369282 2021-06-09 01:32:00  Sprout Social              2  \n",
       "1402429993192464384 2021-06-09 00:59:00  Sprout Social              6  \n",
       "1402422948485648391 2021-06-09 00:31:01  Sprout Social              1  \n",
       "1402415175764959236 2021-06-09 00:00:08  Sprout Social              1  \n",
       "1402407605633441792 2021-06-08 23:30:03  Sprout Social              4  "
      ]
     },
     "execution_count": 17,
     "metadata": {},
     "output_type": "execute_result"
    }
   ],
   "source": [
    "tweet_df[\"created_at\"] = pd.to_datetime(tweet_df[\"created_at\"])\n",
    "tweet_df= tweet_df.rename(columns={\"created_at\": \"time\"}, errors=\"raise\")\n",
    "\n",
    "\n",
    "tweet_df.head()"
   ]
  },
  {
   "cell_type": "markdown",
   "metadata": {},
   "source": [
    "<b>Sentiment Analysis</b>"
   ]
  },
  {
   "cell_type": "code",
   "execution_count": 18,
   "metadata": {},
   "outputs": [
    {
     "data": {
      "text/html": [
       "<div>\n",
       "<style scoped>\n",
       "    .dataframe tbody tr th:only-of-type {\n",
       "        vertical-align: middle;\n",
       "    }\n",
       "\n",
       "    .dataframe tbody tr th {\n",
       "        vertical-align: top;\n",
       "    }\n",
       "\n",
       "    .dataframe thead th {\n",
       "        text-align: right;\n",
       "    }\n",
       "</style>\n",
       "<table border=\"1\" class=\"dataframe\">\n",
       "  <thead>\n",
       "    <tr style=\"text-align: right;\">\n",
       "      <th></th>\n",
       "      <th>polarity</th>\n",
       "    </tr>\n",
       "    <tr>\n",
       "      <th>token</th>\n",
       "      <th></th>\n",
       "    </tr>\n",
       "  </thead>\n",
       "  <tbody>\n",
       "    <tr>\n",
       "      <th>$:</th>\n",
       "      <td>-1.5</td>\n",
       "    </tr>\n",
       "    <tr>\n",
       "      <th>%)</th>\n",
       "      <td>-0.4</td>\n",
       "    </tr>\n",
       "    <tr>\n",
       "      <th>%-)</th>\n",
       "      <td>-1.5</td>\n",
       "    </tr>\n",
       "    <tr>\n",
       "      <th>&amp;-:</th>\n",
       "      <td>-0.4</td>\n",
       "    </tr>\n",
       "    <tr>\n",
       "      <th>&amp;:</th>\n",
       "      <td>-0.7</td>\n",
       "    </tr>\n",
       "    <tr>\n",
       "      <th>...</th>\n",
       "      <td>...</td>\n",
       "    </tr>\n",
       "    <tr>\n",
       "      <th>}:</th>\n",
       "      <td>-2.1</td>\n",
       "    </tr>\n",
       "    <tr>\n",
       "      <th>}:(</th>\n",
       "      <td>-2.0</td>\n",
       "    </tr>\n",
       "    <tr>\n",
       "      <th>}:)</th>\n",
       "      <td>0.4</td>\n",
       "    </tr>\n",
       "    <tr>\n",
       "      <th>}:-(</th>\n",
       "      <td>-2.1</td>\n",
       "    </tr>\n",
       "    <tr>\n",
       "      <th>}:-)</th>\n",
       "      <td>0.3</td>\n",
       "    </tr>\n",
       "  </tbody>\n",
       "</table>\n",
       "<p>7504 rows × 1 columns</p>\n",
       "</div>"
      ],
      "text/plain": [
       "       polarity\n",
       "token          \n",
       "$:         -1.5\n",
       "%)         -0.4\n",
       "%-)        -1.5\n",
       "&-:        -0.4\n",
       "&:         -0.7\n",
       "...         ...\n",
       "}:         -2.1\n",
       "}:(        -2.0\n",
       "}:)         0.4\n",
       "}:-(       -2.1\n",
       "}:-)        0.3\n",
       "\n",
       "[7504 rows x 1 columns]"
      ]
     },
     "execution_count": 18,
     "metadata": {},
     "output_type": "execute_result"
    }
   ],
   "source": [
    "data = pd.read_csv(\"vader_lexicon.txt\",delimiter='\\t',header=None)\n",
    "df_sent = pd.DataFrame()\n",
    "df_sent['polarity']=data[1]\n",
    "df_sent['token']=data[0]\n",
    "df_sent= df_sent.set_index('token')\n",
    "df_sent = df_sent.groupby('token').mean()\n",
    "df_sent"
   ]
  },
  {
   "cell_type": "code",
   "execution_count": 19,
   "metadata": {},
   "outputs": [],
   "source": [
    "tweet_df['text'] = tweet_df['text'].str.lower()"
   ]
  },
  {
   "cell_type": "code",
   "execution_count": 20,
   "metadata": {},
   "outputs": [],
   "source": [
    "# Save your regex in punct_re\n",
    "punct_re = r'[^\\w\\s\\\\n]'\n",
    "url_re = '^https?:\\/\\/.*[\\r\\n]*'\n",
    "\n",
    "regex = re.compile(punct_re, flags=re.IGNORECASE)\n",
    "tweet_df['no_punc'] = tweet_df['text'].replace(regex, ' ')\n",
    "\n",
    "\n",
    "\n"
   ]
  },
  {
   "cell_type": "code",
   "execution_count": 21,
   "metadata": {},
   "outputs": [],
   "source": [
    "tweet_df['no_punc'] = tweet_df['text'].apply(lambda x: re.split('https:\\/\\/.*', str(x))[0])"
   ]
  },
  {
   "cell_type": "markdown",
   "metadata": {},
   "source": [
    "Converting the tweets into what's called a [*tidy format*](https://cran.r-project.org/web/packages/tidyr/vignettes/tidy-data.html) to make the sentiments easier to calculate."
   ]
  },
  {
   "cell_type": "code",
   "execution_count": 22,
   "metadata": {},
   "outputs": [
    {
     "data": {
      "text/html": [
       "<div>\n",
       "<style scoped>\n",
       "    .dataframe tbody tr th:only-of-type {\n",
       "        vertical-align: middle;\n",
       "    }\n",
       "\n",
       "    .dataframe tbody tr th {\n",
       "        vertical-align: top;\n",
       "    }\n",
       "\n",
       "    .dataframe thead th {\n",
       "        text-align: right;\n",
       "    }\n",
       "</style>\n",
       "<table border=\"1\" class=\"dataframe\">\n",
       "  <thead>\n",
       "    <tr style=\"text-align: right;\">\n",
       "      <th></th>\n",
       "      <th>num</th>\n",
       "      <th>word</th>\n",
       "    </tr>\n",
       "    <tr>\n",
       "      <th>id</th>\n",
       "      <th></th>\n",
       "      <th></th>\n",
       "    </tr>\n",
       "  </thead>\n",
       "  <tbody>\n",
       "    <tr>\n",
       "      <th>1402438297222369282</th>\n",
       "      <td>0</td>\n",
       "      <td>accuweather's</td>\n",
       "    </tr>\n",
       "    <tr>\n",
       "      <th>1402438297222369282</th>\n",
       "      <td>1</td>\n",
       "      <td>@adamdweather</td>\n",
       "    </tr>\n",
       "    <tr>\n",
       "      <th>1402438297222369282</th>\n",
       "      <td>2</td>\n",
       "      <td>adam</td>\n",
       "    </tr>\n",
       "    <tr>\n",
       "      <th>1402438297222369282</th>\n",
       "      <td>3</td>\n",
       "      <td>del</td>\n",
       "    </tr>\n",
       "    <tr>\n",
       "      <th>1402438297222369282</th>\n",
       "      <td>4</td>\n",
       "      <td>rosso</td>\n",
       "    </tr>\n",
       "    <tr>\n",
       "      <th>...</th>\n",
       "      <td>...</td>\n",
       "      <td>...</td>\n",
       "    </tr>\n",
       "    <tr>\n",
       "      <th>1382906615888801793</th>\n",
       "      <td>15</td>\n",
       "      <td>seas.</td>\n",
       "    </tr>\n",
       "    <tr>\n",
       "      <th>1382906615888801793</th>\n",
       "      <td>16</td>\n",
       "      <td>but</td>\n",
       "    </tr>\n",
       "    <tr>\n",
       "      <th>1382906615888801793</th>\n",
       "      <td>17</td>\n",
       "      <td>the</td>\n",
       "    </tr>\n",
       "    <tr>\n",
       "      <th>1382906615888801793</th>\n",
       "      <td>18</td>\n",
       "      <td>wet</td>\n",
       "    </tr>\n",
       "    <tr>\n",
       "      <th>1382906615888801793</th>\n",
       "      <td>19</td>\n",
       "      <td>w…</td>\n",
       "    </tr>\n",
       "  </tbody>\n",
       "</table>\n",
       "<p>57843 rows × 2 columns</p>\n",
       "</div>"
      ],
      "text/plain": [
       "                     num           word\n",
       "id                                     \n",
       "1402438297222369282    0  accuweather's\n",
       "1402438297222369282    1  @adamdweather\n",
       "1402438297222369282    2           adam\n",
       "1402438297222369282    3            del\n",
       "1402438297222369282    4          rosso\n",
       "...                  ...            ...\n",
       "1382906615888801793   15          seas.\n",
       "1382906615888801793   16            but\n",
       "1382906615888801793   17            the\n",
       "1382906615888801793   18            wet\n",
       "1382906615888801793   19             w…\n",
       "\n",
       "[57843 rows x 2 columns]"
      ]
     },
     "execution_count": 22,
     "metadata": {},
     "output_type": "execute_result"
    }
   ],
   "source": [
    "tidy_format  = tweet_df['no_punc'].str.split(expand=True).stack().to_frame().reset_index()\n",
    "tidy_format  = tidy_format .rename(columns={'level_1': 'num', 0: 'word'})\n",
    "tidy_format = tidy_format.set_index(\"id\") \n",
    "tidy_format"
   ]
  },
  {
   "cell_type": "code",
   "execution_count": 23,
   "metadata": {},
   "outputs": [
    {
     "data": {
      "text/html": [
       "<div>\n",
       "<style scoped>\n",
       "    .dataframe tbody tr th:only-of-type {\n",
       "        vertical-align: middle;\n",
       "    }\n",
       "\n",
       "    .dataframe tbody tr th {\n",
       "        vertical-align: top;\n",
       "    }\n",
       "\n",
       "    .dataframe thead th {\n",
       "        text-align: right;\n",
       "    }\n",
       "</style>\n",
       "<table border=\"1\" class=\"dataframe\">\n",
       "  <thead>\n",
       "    <tr style=\"text-align: right;\">\n",
       "      <th></th>\n",
       "      <th>text</th>\n",
       "      <th>time</th>\n",
       "      <th>source</th>\n",
       "      <th>retweet_count</th>\n",
       "      <th>no_punc</th>\n",
       "      <th>polarity</th>\n",
       "    </tr>\n",
       "    <tr>\n",
       "      <th>id</th>\n",
       "      <th></th>\n",
       "      <th></th>\n",
       "      <th></th>\n",
       "      <th></th>\n",
       "      <th></th>\n",
       "      <th></th>\n",
       "    </tr>\n",
       "  </thead>\n",
       "  <tbody>\n",
       "    <tr>\n",
       "      <th>1402438297222369282</th>\n",
       "      <td>accuweather's @adamdweather adam del rosso interviewed @nasa research scientist dr. patrick duran about using light… https://t.co/cp4sjgklgq</td>\n",
       "      <td>2021-06-09 01:32:00</td>\n",
       "      <td>Sprout Social</td>\n",
       "      <td>2</td>\n",
       "      <td>accuweather's @adamdweather adam del rosso interviewed @nasa research scientist dr. patrick duran about using light…</td>\n",
       "      <td>NaN</td>\n",
       "    </tr>\n",
       "    <tr>\n",
       "      <th>1402429993192464384</th>\n",
       "      <td>on may 26, the moon passed through earth’s shadow during a lunar eclipse, and on thursday, the roles will be revers… https://t.co/tzmj0a1jib</td>\n",
       "      <td>2021-06-09 00:59:00</td>\n",
       "      <td>Sprout Social</td>\n",
       "      <td>6</td>\n",
       "      <td>on may 26, the moon passed through earth’s shadow during a lunar eclipse, and on thursday, the roles will be revers…</td>\n",
       "      <td>NaN</td>\n",
       "    </tr>\n",
       "    <tr>\n",
       "      <th>1402422948485648391</th>\n",
       "      <td>daily #coronavirus briefing: \"joints for jabs,\" canada's potential border reopening, and the resurrection of madiso… https://t.co/uv2fjvoesf</td>\n",
       "      <td>2021-06-09 00:31:01</td>\n",
       "      <td>Sprout Social</td>\n",
       "      <td>1</td>\n",
       "      <td>daily #coronavirus briefing: \"joints for jabs,\" canada's potential border reopening, and the resurrection of madiso…</td>\n",
       "      <td>NaN</td>\n",
       "    </tr>\n",
       "    <tr>\n",
       "      <th>1402415175764959236</th>\n",
       "      <td>it doesn't look like this motorist will cross this roadway in leflore county, oklahoma. watch how it turned into a… https://t.co/vwfsjdn8fa</td>\n",
       "      <td>2021-06-09 00:00:08</td>\n",
       "      <td>Sprout Social</td>\n",
       "      <td>1</td>\n",
       "      <td>it doesn't look like this motorist will cross this roadway in leflore county, oklahoma. watch how it turned into a…</td>\n",
       "      <td>1.5</td>\n",
       "    </tr>\n",
       "    <tr>\n",
       "      <th>1402407605633441792</th>\n",
       "      <td>the chances of the development of a tropical depression or storm will grow in mid- to late june. additional disturb… https://t.co/3zehuzdai0</td>\n",
       "      <td>2021-06-08 23:30:03</td>\n",
       "      <td>Sprout Social</td>\n",
       "      <td>4</td>\n",
       "      <td>the chances of the development of a tropical depression or storm will grow in mid- to late june. additional disturb…</td>\n",
       "      <td>-1.9</td>\n",
       "    </tr>\n",
       "    <tr>\n",
       "      <th>...</th>\n",
       "      <td>...</td>\n",
       "      <td>...</td>\n",
       "      <td>...</td>\n",
       "      <td>...</td>\n",
       "      <td>...</td>\n",
       "      <td>...</td>\n",
       "    </tr>\n",
       "    <tr>\n",
       "      <th>1383027504571629570</th>\n",
       "      <td>it is one of the most ambitious clean energy plans in the country, but some say the transition will actually cause… https://t.co/tctvfgzeud</td>\n",
       "      <td>2021-04-16 12:00:27</td>\n",
       "      <td>Sprout Social</td>\n",
       "      <td>0</td>\n",
       "      <td>it is one of the most ambitious clean energy plans in the country, but some say the transition will actually cause…</td>\n",
       "      <td>4.9</td>\n",
       "    </tr>\n",
       "    <tr>\n",
       "      <th>1382997250830438401</th>\n",
       "      <td>favorable weather is in the forecast for many areas of north america as the first meteor shower since january reach… https://t.co/05fh9f10qd</td>\n",
       "      <td>2021-04-16 10:00:14</td>\n",
       "      <td>Sprout Social</td>\n",
       "      <td>3</td>\n",
       "      <td>favorable weather is in the forecast for many areas of north america as the first meteor shower since january reach…</td>\n",
       "      <td>2.1</td>\n",
       "    </tr>\n",
       "    <tr>\n",
       "      <th>1382967059471040513</th>\n",
       "      <td>you'd expect to capture some spectacular images on camera if you're kayaking at a glacier lake in nepal, but one gr… https://t.co/ljrz7pdb0w</td>\n",
       "      <td>2021-04-16 08:00:15</td>\n",
       "      <td>Sprout Social</td>\n",
       "      <td>4</td>\n",
       "      <td>you'd expect to capture some spectacular images on camera if you're kayaking at a glacier lake in nepal, but one gr…</td>\n",
       "      <td>NaN</td>\n",
       "    </tr>\n",
       "    <tr>\n",
       "      <th>1382936830560047104</th>\n",
       "      <td>the fiancée of a crane operator reported missing from a vessel that capsized in a storm says family members are des… https://t.co/x7zyqo3kyo</td>\n",
       "      <td>2021-04-16 06:00:08</td>\n",
       "      <td>Sprout Social</td>\n",
       "      <td>4</td>\n",
       "      <td>the fiancée of a crane operator reported missing from a vessel that capsized in a storm says family members are des…</td>\n",
       "      <td>-1.2</td>\n",
       "    </tr>\n",
       "    <tr>\n",
       "      <th>1382906615888801793</th>\n",
       "      <td>the strengthening storm will unleash plenty of precipitation and also some high winds and rough seas. but the wet w… https://t.co/c4bqydssgz</td>\n",
       "      <td>2021-04-16 04:00:05</td>\n",
       "      <td>Sprout Social</td>\n",
       "      <td>2</td>\n",
       "      <td>the strengthening storm will unleash plenty of precipitation and also some high winds and rough seas. but the wet w…</td>\n",
       "      <td>2.2</td>\n",
       "    </tr>\n",
       "  </tbody>\n",
       "</table>\n",
       "<p>3250 rows × 6 columns</p>\n",
       "</div>"
      ],
      "text/plain": [
       "                                                                                                                                                             text  \\\n",
       "id                                                                                                                                                                  \n",
       "1402438297222369282  accuweather's @adamdweather adam del rosso interviewed @nasa research scientist dr. patrick duran about using light… https://t.co/cp4sjgklgq   \n",
       "1402429993192464384  on may 26, the moon passed through earth’s shadow during a lunar eclipse, and on thursday, the roles will be revers… https://t.co/tzmj0a1jib   \n",
       "1402422948485648391  daily #coronavirus briefing: \"joints for jabs,\" canada's potential border reopening, and the resurrection of madiso… https://t.co/uv2fjvoesf   \n",
       "1402415175764959236   it doesn't look like this motorist will cross this roadway in leflore county, oklahoma. watch how it turned into a… https://t.co/vwfsjdn8fa   \n",
       "1402407605633441792  the chances of the development of a tropical depression or storm will grow in mid- to late june. additional disturb… https://t.co/3zehuzdai0   \n",
       "...                                                                                                                                                           ...   \n",
       "1383027504571629570   it is one of the most ambitious clean energy plans in the country, but some say the transition will actually cause… https://t.co/tctvfgzeud   \n",
       "1382997250830438401  favorable weather is in the forecast for many areas of north america as the first meteor shower since january reach… https://t.co/05fh9f10qd   \n",
       "1382967059471040513  you'd expect to capture some spectacular images on camera if you're kayaking at a glacier lake in nepal, but one gr… https://t.co/ljrz7pdb0w   \n",
       "1382936830560047104  the fiancée of a crane operator reported missing from a vessel that capsized in a storm says family members are des… https://t.co/x7zyqo3kyo   \n",
       "1382906615888801793  the strengthening storm will unleash plenty of precipitation and also some high winds and rough seas. but the wet w… https://t.co/c4bqydssgz   \n",
       "\n",
       "                                   time         source  retweet_count  \\\n",
       "id                                                                      \n",
       "1402438297222369282 2021-06-09 01:32:00  Sprout Social              2   \n",
       "1402429993192464384 2021-06-09 00:59:00  Sprout Social              6   \n",
       "1402422948485648391 2021-06-09 00:31:01  Sprout Social              1   \n",
       "1402415175764959236 2021-06-09 00:00:08  Sprout Social              1   \n",
       "1402407605633441792 2021-06-08 23:30:03  Sprout Social              4   \n",
       "...                                 ...            ...            ...   \n",
       "1383027504571629570 2021-04-16 12:00:27  Sprout Social              0   \n",
       "1382997250830438401 2021-04-16 10:00:14  Sprout Social              3   \n",
       "1382967059471040513 2021-04-16 08:00:15  Sprout Social              4   \n",
       "1382936830560047104 2021-04-16 06:00:08  Sprout Social              4   \n",
       "1382906615888801793 2021-04-16 04:00:05  Sprout Social              2   \n",
       "\n",
       "                                                                                                                                   no_punc  \\\n",
       "id                                                                                                                                           \n",
       "1402438297222369282  accuweather's @adamdweather adam del rosso interviewed @nasa research scientist dr. patrick duran about using light…    \n",
       "1402429993192464384  on may 26, the moon passed through earth’s shadow during a lunar eclipse, and on thursday, the roles will be revers…    \n",
       "1402422948485648391  daily #coronavirus briefing: \"joints for jabs,\" canada's potential border reopening, and the resurrection of madiso…    \n",
       "1402415175764959236   it doesn't look like this motorist will cross this roadway in leflore county, oklahoma. watch how it turned into a…    \n",
       "1402407605633441792  the chances of the development of a tropical depression or storm will grow in mid- to late june. additional disturb…    \n",
       "...                                                                                                                                    ...   \n",
       "1383027504571629570   it is one of the most ambitious clean energy plans in the country, but some say the transition will actually cause…    \n",
       "1382997250830438401  favorable weather is in the forecast for many areas of north america as the first meteor shower since january reach…    \n",
       "1382967059471040513  you'd expect to capture some spectacular images on camera if you're kayaking at a glacier lake in nepal, but one gr…    \n",
       "1382936830560047104  the fiancée of a crane operator reported missing from a vessel that capsized in a storm says family members are des…    \n",
       "1382906615888801793  the strengthening storm will unleash plenty of precipitation and also some high winds and rough seas. but the wet w…    \n",
       "\n",
       "                     polarity  \n",
       "id                             \n",
       "1402438297222369282       NaN  \n",
       "1402429993192464384       NaN  \n",
       "1402422948485648391       NaN  \n",
       "1402415175764959236       1.5  \n",
       "1402407605633441792      -1.9  \n",
       "...                       ...  \n",
       "1383027504571629570       4.9  \n",
       "1382997250830438401       2.1  \n",
       "1382967059471040513       NaN  \n",
       "1382936830560047104      -1.2  \n",
       "1382906615888801793       2.2  \n",
       "\n",
       "[3250 rows x 6 columns]"
      ]
     },
     "execution_count": 23,
     "metadata": {},
     "output_type": "execute_result"
    }
   ],
   "source": [
    "df_merged = pd.merge(tweet_df, tidy_format, left_index = True, right_index=True)\n",
    "df_merged = pd.merge(df_merged, df_sent, left_on='word', right_index=True)\n",
    "df_merged_ri = df_merged.reset_index()\n",
    "df_merged_ri = df_merged_ri.groupby(\"id\")[\"polarity\"].sum()\n",
    "df_merged_ri =df_merged_ri.to_frame()\n",
    "tweet_df['polarity'] = df_merged_ri[\"polarity\"]\n",
    "tweet_df"
   ]
  },
  {
   "cell_type": "markdown",
   "metadata": {},
   "source": [
    "Most Negative Tweet"
   ]
  },
  {
   "cell_type": "code",
   "execution_count": 24,
   "metadata": {},
   "outputs": [
    {
     "name": "stdout",
     "output_type": "stream",
     "text": [
      "Most negative tweets: \n",
      "nearly 24 million are facing a slight risk of severe weather on wednesday as the threat for damaging storms expands… https://t.co/2l26r4uzxw\n"
     ]
    }
   ],
   "source": [
    "\n",
    "\n",
    "min_val = tweet_df[\"polarity\"].min()\n",
    "df_temp = tweet_df.loc[tweet_df[\"polarity\"] == min_val]\n",
    "print('Most negative tweets: ')\n",
    "\n",
    "negative = df_temp[\"text\"].to_frame().drop_duplicates()\n",
    "pd.set_option(\"display.max_colwidth\", None)\n",
    "with pd.option_context('display.max_colwidth', 1000):\n",
    "    temptext=negative[\"text\"][0]\n",
    "    print(temptext)"
   ]
  },
  {
   "cell_type": "markdown",
   "metadata": {},
   "source": [
    "Most positive tweet"
   ]
  },
  {
   "cell_type": "code",
   "execution_count": 25,
   "metadata": {},
   "outputs": [
    {
     "name": "stdout",
     "output_type": "stream",
     "text": [
      "Most positive tweets:\n",
      "@forrestlself hope you're staying warm! where was this taken? love the video! we'd love to share it with credit on… https://t.co/xzmg3n5y3y\n"
     ]
    }
   ],
   "source": [
    "max_val = tweet_df[\"polarity\"].max()\n",
    "df_temp = tweet_df.loc[tweet_df[\"polarity\"] == max_val]\n",
    "print('Most positive tweets:')\n",
    "positive = df_temp[\"text\"].to_frame().drop_duplicates()\n",
    "with pd.option_context('display.max_colwidth', 1000):\n",
    "    temptext=positive[\"text\"][0]\n",
    "    print(temptext)"
   ]
  },
  {
   "cell_type": "markdown",
   "metadata": {},
   "source": [
    "Plot the distribution of tweet sentiments broken down by whether the text of the tweet contains string 1 or string 2. Replace the words storm and sun with whatever two strings you want to compare.\n"
   ]
  },
  {
   "cell_type": "code",
   "execution_count": 26,
   "metadata": {},
   "outputs": [
    {
     "data": {
      "text/plain": [
       "[Text(0, 0.5, 'Density'), Text(0.5, 0, '')]"
      ]
     },
     "execution_count": 26,
     "metadata": {},
     "output_type": "execute_result"
    },
    {
     "data": {
      "image/png": "[encoded data removed]",
      "text/plain": [
       "<Figure size 792x576 with 1 Axes>"
      ]
     },
     "metadata": {},
     "output_type": "display_data"
    }
   ],
   "source": [
    "nyt =tweet_df[tweet_df['no_punc'].str.contains(\"storm\") ]\n",
    "fox =tweet_df[tweet_df['no_punc'].str.contains(\"sun\") ]\n",
    "ax =sns.distplot(nyt['polarity'], hist=True, rug=False)\n",
    "ax =sns.distplot(fox['polarity'], hist=True, rug=False)\n",
    "plt.ylim(0, 0.25)\n",
    "plt.xlim(-30, 20)\n",
    "ax.set(ylabel =\"Density\", xlabel =\"\")"
   ]
  },
  {
   "cell_type": "markdown",
   "metadata": {},
   "source": [
    "## Principal Component Analysis (PCA) and Twitter"
   ]
  },
  {
   "cell_type": "markdown",
   "metadata": {},
   "source": [
    "The Principal Component Analysis, or PCA, is a tool generally used to identify patterns and to reduce the number of variables you have to consider in your analysis. For example, if you have data with 200 columns, it may be that a significant amount of the variance in your data can be explained by just 100 principal components. In the PCA, the first component is chosen in such a way that has the largest variance, subsequent components are orthogonal and continue covering as much variance as possible. In this way, the PCA samples as much of the variability in the data set with the first few components. Mathematically, each component is a linear combination of all the input parameters times coefficients specific for that component. These coefficients, or loading factors, are constrained such that the sum of the squares of them are equal to 1. As such, the loading factors serve as weights describing how strongly certain parameters contribute to the specific principal component. Parameters with large values of positive or negative loading factors are correlated with each other, which can serve to identify trends in your data."
   ]
  },
  {
   "cell_type": "markdown",
   "metadata": {},
   "source": [
    "Cleaning up the Data\n",
    "Using NLTK (Natural Language Toolkit) package for language processing and other python libraries, we parse the json file to deal with inflected words, such as plurals, and removed stop words like common English words (the, and, it, etc)\n"
   ]
  },
  {
   "cell_type": "code",
   "execution_count": 27,
   "metadata": {},
   "outputs": [
    {
     "name": "stderr",
     "output_type": "stream",
     "text": [
      "[nltk_data] Downloading package stopwords to\n",
      "[nltk_data]     C:\\Users\\rouse\\AppData\\Roaming\\nltk_data...\n",
      "[nltk_data]   Package stopwords is already up-to-date!\n",
      "[nltk_data] Downloading package wordnet to\n",
      "[nltk_data]     C:\\Users\\rouse\\AppData\\Roaming\\nltk_data...\n",
      "[nltk_data]   Package wordnet is already up-to-date!\n"
     ]
    },
    {
     "data": {
      "text/plain": [
       "array([[0., 0., 0., 0., 0., 0., 0., 0., 0., 0., 0., 0., 0., 0., 0., 0.,\n",
       "        0., 0., 0., 0., 0., 0., 0., 0., 0., 0., 0., 0., 0., 0., 0., 0.,\n",
       "        0., 0., 0., 0., 0., 0., 0., 0., 0., 0., 0., 0., 0., 0., 0., 0.,\n",
       "        0., 0.],\n",
       "       [0., 0., 0., 0., 0., 0., 0., 0., 0., 0., 0., 0., 0., 0., 0., 0.,\n",
       "        0., 0., 0., 0., 0., 0., 0., 0., 0., 0., 0., 0., 0., 0., 0., 0.,\n",
       "        0., 0., 0., 0., 0., 0., 0., 0., 0., 0., 0., 0., 0., 0., 0., 0.,\n",
       "        0., 0.],\n",
       "       [0., 0., 0., 0., 0., 0., 0., 0., 0., 0., 0., 0., 0., 0., 0., 0.,\n",
       "        0., 0., 0., 0., 0., 0., 0., 0., 0., 0., 0., 0., 0., 0., 0., 0.,\n",
       "        0., 0., 0., 0., 0., 0., 0., 0., 0., 0., 0., 0., 0., 0., 0., 0.,\n",
       "        0., 0.],\n",
       "       [0., 0., 0., 0., 0., 0., 0., 0., 0., 0., 0., 0., 0., 0., 0., 0.,\n",
       "        0., 0., 0., 0., 0., 0., 0., 0., 0., 0., 0., 0., 0., 0., 0., 0.,\n",
       "        0., 0., 0., 0., 0., 0., 0., 0., 0., 0., 0., 0., 0., 0., 0., 0.,\n",
       "        0., 0.],\n",
       "       [0., 0., 0., 0., 0., 0., 0., 0., 0., 0., 0., 0., 0., 0., 0., 0.,\n",
       "        0., 0., 0., 0., 0., 0., 0., 0., 0., 0., 0., 0., 0., 0., 0., 0.,\n",
       "        0., 0., 0., 0., 0., 0., 0., 0., 0., 0., 0., 0., 0., 0., 0., 0.,\n",
       "        0., 0.],\n",
       "       [0., 0., 0., 0., 0., 0., 0., 0., 0., 0., 0., 0., 0., 0., 0., 0.,\n",
       "        0., 0., 0., 0., 0., 0., 0., 0., 0., 0., 0., 0., 0., 0., 0., 0.,\n",
       "        0., 0., 0., 0., 0., 0., 0., 0., 0., 0., 0., 0., 0., 0., 0., 0.,\n",
       "        0., 0.],\n",
       "       [2., 0., 0., 0., 0., 0., 0., 0., 0., 0., 0., 0., 0., 0., 0., 0.,\n",
       "        0., 0., 0., 0., 0., 0., 0., 0., 0., 0., 0., 0., 0., 0., 0., 0.,\n",
       "        0., 0., 0., 0., 0., 0., 0., 0., 0., 0., 0., 0., 0., 0., 0., 0.,\n",
       "        0., 0.],\n",
       "       [0., 0., 0., 0., 0., 0., 0., 0., 0., 0., 0., 0., 0., 0., 0., 0.,\n",
       "        0., 0., 0., 0., 0., 0., 0., 0., 0., 0., 0., 0., 0., 0., 0., 0.,\n",
       "        0., 0., 0., 0., 0., 0., 0., 0., 0., 0., 0., 0., 0., 0., 0., 0.,\n",
       "        0., 0.],\n",
       "       [0., 0., 0., 0., 0., 0., 0., 0., 0., 0., 0., 0., 0., 0., 0., 0.,\n",
       "        0., 0., 0., 0., 0., 0., 0., 0., 0., 0., 0., 0., 0., 0., 0., 0.,\n",
       "        0., 0., 0., 0., 0., 0., 0., 0., 0., 0., 0., 0., 0., 0., 0., 0.,\n",
       "        0., 0.],\n",
       "       [0., 0., 0., 0., 0., 0., 0., 0., 0., 0., 0., 0., 0., 0., 0., 0.,\n",
       "        0., 0., 0., 0., 0., 0., 0., 0., 0., 0., 0., 0., 0., 0., 0., 0.,\n",
       "        0., 0., 0., 0., 0., 0., 0., 0., 0., 0., 0., 0., 0., 0., 0., 0.,\n",
       "        0., 0.]])"
      ]
     },
     "execution_count": 27,
     "metadata": {},
     "output_type": "execute_result"
    }
   ],
   "source": [
    "## code to plot the first 10 rows of the matrix\n",
    "import nltk\n",
    "import nltk.corpus\n",
    "nltk.download('stopwords')\n",
    "nltk.download('wordnet')\n",
    "\n",
    "\n",
    "\n",
    "#create a dataframe called tmp to store all words appear in the tweets\n",
    "from nltk.corpus import stopwords\n",
    "stop_words = stopwords.words('english')\n",
    "tmp = pd.DataFrame()\n",
    "tmp['word'] = tidy_format['word']\n",
    "\n",
    "tmp = tmp.reset_index()\n",
    "\n",
    "\n",
    "#remove stopwords\n",
    "df_no_stop = df_merged[~df_merged['word'].isin(stop_words)]\n",
    "\n",
    "#deal with plurals\n",
    "df_lem = pd.DataFrame(df_no_stop)\n",
    "from nltk.stem import WordNetLemmatizer \n",
    "lemmatizer = WordNetLemmatizer() \n",
    "df_lem['word'] = df_lem['word'].apply(lambda s: lemmatizer.lemmatize(s))\n",
    "\n",
    "\n",
    "# Remove numbers\n",
    "df_clean = pd.DataFrame(df_lem)\n",
    "df_clean = df_clean[~(df_clean['word'].str.isnumeric())]\n",
    "#Remove words with only 1 or 2 length\n",
    "\n",
    "tmp = df_clean[df_clean['word'].str.len() > 2] \n",
    "\n",
    "\n",
    "\n",
    "\n",
    "words = tmp['word'].value_counts(ascending=False)\n",
    "\n",
    "words = words.reset_index()['index'][:50].to_list()\n",
    "\n",
    "w_to_idx = {}\n",
    "for i in range(len(words)):\n",
    "    w_to_idx[words[i]] = i\n",
    "    \n",
    "X = np.zeros((5000, 50))\n",
    "\n",
    "\n",
    "selected_tweets = tmp.index.unique()[:5000]\n",
    "\n",
    "\n",
    "\n",
    "\n",
    "\n",
    "for i in range(1000):\n",
    "    tmp_i = tmp.loc[[selected_tweets[i]]]\n",
    "    for j in range(len(tmp_i)):\n",
    "       \n",
    "        if tmp_i.iloc[j]['word'] in words:\n",
    "            X[i, w_to_idx[tmp_i.iloc[j]['word']]] += 1\n",
    "X[:10]\n",
    "\n",
    "\n"
   ]
  },
  {
   "cell_type": "code",
   "execution_count": 28,
   "metadata": {},
   "outputs": [
    {
     "name": "stdout",
     "output_type": "stream",
     "text": [
      "[[ 9.80539006e-01 -8.09250183e-02 -9.24288597e-02 ... -2.21245293e-03\n",
      "  -2.73849253e-03 -1.69310521e-03]\n",
      " [ 5.49590324e-02  9.64785286e-01 -2.39133430e-01 ...  2.17661263e-02\n",
      "   5.76930815e-03 -1.48309017e-03]\n",
      " [ 1.09126789e-01  2.31994078e-01  9.60161973e-01 ...  3.96002723e-03\n",
      "  -1.72247827e-03 -2.68307188e-03]\n",
      " ...\n",
      " [ 5.54216980e-05  9.91496976e-04  2.39259279e-04 ... -6.87042778e-04\n",
      "  -1.77394162e-04 -1.52123770e-03]\n",
      " [-0.00000000e+00 -2.97828032e-18 -2.97331317e-20 ...  4.98139020e-17\n",
      "  -1.22171673e-16 -1.18511943e-16]\n",
      " [ 0.00000000e+00  3.47709225e-18 -3.11357034e-18 ... -3.75429264e-17\n",
      "  -9.58534782e-17  6.31752737e-17]]\n",
      "[3.48492803e-02 2.65093920e-02 2.50306364e-02 9.87875999e-03\n",
      " 7.78087335e-03 6.72504352e-03 6.60183794e-03 6.21271524e-03\n",
      " 5.80466930e-03 5.71612615e-03 5.57950343e-03 5.04428850e-03\n",
      " 5.02901818e-03 4.50812613e-03 4.40721588e-03 4.37395539e-03\n",
      " 4.31054070e-03 4.11502573e-03 3.98752628e-03 3.85791774e-03\n",
      " 3.82244838e-03 3.63471090e-03 3.40623434e-03 3.29428689e-03\n",
      " 3.01378612e-03 2.93863731e-03 2.68730243e-03 2.58769717e-03\n",
      " 2.54959119e-03 2.42900053e-03 2.27716639e-03 2.13102186e-03\n",
      " 2.03019572e-03 1.99820948e-03 1.94079396e-03 1.78041707e-03\n",
      " 1.65632736e-03 1.60625452e-03 1.35037760e-03 1.34133102e-03\n",
      " 1.23904673e-03 1.00730384e-03 9.55554109e-04 9.34194678e-04\n",
      " 8.52510625e-04 6.76924800e-04 1.90420848e-04 1.83249492e-04\n",
      " 3.39414368e-34 3.39414368e-34]\n"
     ]
    }
   ],
   "source": [
    "\n",
    "from sklearn.decomposition import PCA\n",
    "pca = PCA(n_components=50)\n",
    "pca.fit(X)\n",
    "print(pca.components_)\n",
    "print(pca.explained_variance_)"
   ]
  },
  {
   "cell_type": "code",
   "execution_count": 29,
   "metadata": {},
   "outputs": [
    {
     "data": {
      "image/png": "[encoded data removed]",
      "text/plain": [
       "<Figure size 1440x1440 with 2 Axes>"
      ]
     },
     "metadata": {},
     "output_type": "display_data"
    }
   ],
   "source": [
    "fig = plt.figure(figsize=(20,20))\n",
    "\n",
    "ax = sns.heatmap(pca.components_,\n",
    "                 cmap=sns.diverging_palette(100, 400,as_cmap=True),\n",
    "                 xticklabels=[ \"PCA\"+str(x) for x in range(1,pca.n_components_+1)],\n",
    "                 yticklabels=list(words),\n",
    "                 cbar_kws={\"orientation\": \"vertical\"})\n",
    "ax.set_aspect(\"equal\")\n",
    "\n"
   ]
  },
  {
   "cell_type": "code",
   "execution_count": 30,
   "metadata": {},
   "outputs": [
    {
     "data": {
      "text/plain": [
       "<seaborn.axisgrid.JointGrid at 0x26d4ac5b550>"
      ]
     },
     "execution_count": 30,
     "metadata": {},
     "output_type": "execute_result"
    },
    {
     "data": {
      "image/png": "[encoded data removed]",
      "text/plain": [
       "<Figure size 432x432 with 3 Axes>"
      ]
     },
     "metadata": {},
     "output_type": "display_data"
    }
   ],
   "source": [
    "mu = X.mean(axis=0)\n",
    "\n",
    "X_ = X - mu\n",
    "\n",
    "Sigma = X_.T @ X_ / len(X_)\n",
    "\n",
    "import scipy.linalg as linalg\n",
    "u, lam, uh = linalg.svd(Sigma)\n",
    "pca1 = u[:,0]\n",
    "pca2 = u[:,1]\n",
    "\n",
    "\n",
    "sns.jointplot(pca1,pca2)"
   ]
  },
  {
   "cell_type": "markdown",
   "metadata": {},
   "source": [
    "## Twitter Engagement\n",
    "\n",
    "Heer, we'll explore which words led to a greater average number of retweets.\n"
   ]
  },
  {
   "cell_type": "code",
   "execution_count": 31,
   "metadata": {},
   "outputs": [
    {
     "data": {
      "text/html": [
       "<div>\n",
       "<style scoped>\n",
       "    .dataframe tbody tr th:only-of-type {\n",
       "        vertical-align: middle;\n",
       "    }\n",
       "\n",
       "    .dataframe tbody tr th {\n",
       "        vertical-align: top;\n",
       "    }\n",
       "\n",
       "    .dataframe thead th {\n",
       "        text-align: right;\n",
       "    }\n",
       "</style>\n",
       "<table border=\"1\" class=\"dataframe\">\n",
       "  <thead>\n",
       "    <tr style=\"text-align: right;\">\n",
       "      <th></th>\n",
       "      <th>retweet_count</th>\n",
       "    </tr>\n",
       "    <tr>\n",
       "      <th>word</th>\n",
       "      <th></th>\n",
       "    </tr>\n",
       "  </thead>\n",
       "  <tbody>\n",
       "    <tr>\n",
       "      <th>way</th>\n",
       "      <td>79.416667</td>\n",
       "    </tr>\n",
       "    <tr>\n",
       "      <th>watch</th>\n",
       "      <td>75.736842</td>\n",
       "    </tr>\n",
       "    <tr>\n",
       "      <th>take</th>\n",
       "      <td>69.682927</td>\n",
       "    </tr>\n",
       "    <tr>\n",
       "      <th>its</th>\n",
       "      <td>42.442857</td>\n",
       "    </tr>\n",
       "    <tr>\n",
       "      <th>look</th>\n",
       "      <td>39.688312</td>\n",
       "    </tr>\n",
       "    <tr>\n",
       "      <th>t…</th>\n",
       "      <td>35.294118</td>\n",
       "    </tr>\n",
       "    <tr>\n",
       "      <th>rt</th>\n",
       "      <td>28.646667</td>\n",
       "    </tr>\n",
       "    <tr>\n",
       "      <th>moon</th>\n",
       "      <td>17.500000</td>\n",
       "    </tr>\n",
       "    <tr>\n",
       "      <th>from</th>\n",
       "      <td>12.975779</td>\n",
       "    </tr>\n",
       "    <tr>\n",
       "      <th>monday</th>\n",
       "      <td>11.482759</td>\n",
       "    </tr>\n",
       "    <tr>\n",
       "      <th>on</th>\n",
       "      <td>9.488889</td>\n",
       "    </tr>\n",
       "    <tr>\n",
       "      <th>extreme</th>\n",
       "      <td>8.074074</td>\n",
       "    </tr>\n",
       "    <tr>\n",
       "      <th>night</th>\n",
       "      <td>7.368421</td>\n",
       "    </tr>\n",
       "    <tr>\n",
       "      <th>also</th>\n",
       "      <td>7.137931</td>\n",
       "    </tr>\n",
       "    <tr>\n",
       "      <th>sky</th>\n",
       "      <td>6.750000</td>\n",
       "    </tr>\n",
       "    <tr>\n",
       "      <th>central</th>\n",
       "      <td>6.739130</td>\n",
       "    </tr>\n",
       "    <tr>\n",
       "      <th>near</th>\n",
       "      <td>6.256410</td>\n",
       "    </tr>\n",
       "    <tr>\n",
       "      <th>making</th>\n",
       "      <td>6.228571</td>\n",
       "    </tr>\n",
       "    <tr>\n",
       "      <th>tornado</th>\n",
       "      <td>6.218391</td>\n",
       "    </tr>\n",
       "    <tr>\n",
       "      <th>incredible</th>\n",
       "      <td>6.209302</td>\n",
       "    </tr>\n",
       "  </tbody>\n",
       "</table>\n",
       "</div>"
      ],
      "text/plain": [
       "            retweet_count\n",
       "word                     \n",
       "way             79.416667\n",
       "watch           75.736842\n",
       "take            69.682927\n",
       "its             42.442857\n",
       "look            39.688312\n",
       "t…              35.294118\n",
       "rt              28.646667\n",
       "moon            17.500000\n",
       "from            12.975779\n",
       "monday          11.482759\n",
       "on               9.488889\n",
       "extreme          8.074074\n",
       "night            7.368421\n",
       "also             7.137931\n",
       "sky              6.750000\n",
       "central          6.739130\n",
       "near             6.256410\n",
       "making           6.228571\n",
       "tornado          6.218391\n",
       "incredible       6.209302"
      ]
     },
     "execution_count": 31,
     "metadata": {},
     "output_type": "execute_result"
    }
   ],
   "source": [
    "top_20 = (tidy_format.join(tweet_df['retweet_count']).loc[:, ['word', 'retweet_count']].groupby('word')\n",
    "          .filter(lambda x: len(x) >= 25).groupby('word').mean().sort_values('retweet_count', ascending=False).head(20))\n",
    "top_20"
   ]
  },
  {
   "cell_type": "code",
   "execution_count": 32,
   "metadata": {},
   "outputs": [
    {
     "data": {
      "text/plain": [
       "Text(0, 0.5, 'Retweet Count')"
      ]
     },
     "execution_count": 32,
     "metadata": {},
     "output_type": "execute_result"
    },
    {
     "data": {
      "image/png": "[encoded data removed]",
      "text/plain": [
       "<Figure size 720x576 with 1 Axes>"
      ]
     },
     "metadata": {},
     "output_type": "display_data"
    }
   ],
   "source": [
    "top_20['retweet_count'].sort_values().plot.barh(figsize=(10, 8))\n",
    "plt.xlabel('Word')\n",
    "plt.ylabel('Retweet Count')"
   ]
  },
  {
   "cell_type": "code",
   "execution_count": null,
   "metadata": {},
   "outputs": [],
   "source": []
  }
 ],
 "metadata": {
  "celltoolbar": "Raw Cell Format",
  "colab": {
   "name": "Twitter Analysis.ipynb",
   "provenance": []
  },
  "kernelspec": {
   "display_name": "Python 3",
   "language": "python",
   "name": "python3"
  },
  "language_info": {
   "codemirror_mode": {
    "name": "ipython",
    "version": 3
   },
   "file_extension": ".py",
   "mimetype": "text/x-python",
   "name": "python",
   "nbconvert_exporter": "python",
   "pygments_lexer": "ipython3",
   "version": "3.8.3"
  }
 },
 "nbformat": 4,
 "nbformat_minor": 1
}
